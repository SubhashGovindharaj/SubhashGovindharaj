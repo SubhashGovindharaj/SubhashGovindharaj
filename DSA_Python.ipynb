{
  "nbformat": 4,
  "nbformat_minor": 0,
  "metadata": {
    "colab": {
      "provenance": [],
      "authorship_tag": "ABX9TyM5AUwwirvfnxjS3b3XcQmz",
      "include_colab_link": true
    },
    "kernelspec": {
      "name": "python3",
      "display_name": "Python 3"
    },
    "language_info": {
      "name": "python"
    }
  },
  "cells": [
    {
      "cell_type": "markdown",
      "metadata": {
        "id": "view-in-github",
        "colab_type": "text"
      },
      "source": [
        "<a href=\"https://colab.research.google.com/github/SubhashGovindharaj/SubhashGovindharaj/blob/main/DSA_Python.ipynb\" target=\"_parent\"><img src=\"https://colab.research.google.com/assets/colab-badge.svg\" alt=\"Open In Colab\"/></a>"
      ]
    },
    {
      "cell_type": "code",
      "execution_count": null,
      "metadata": {
        "id": "QVHWGCuPtHyE"
      },
      "outputs": [],
      "source": []
    },
    {
      "cell_type": "markdown",
      "source": [
        "# **Recursion**"
      ],
      "metadata": {
        "id": "_a1VC5HUJE89"
      }
    },
    {
      "cell_type": "code",
      "source": [
        "#A function which calls itself a function\n",
        "\n",
        "\n",
        "n = 5\n",
        "\n",
        "def fact(n):\n",
        "  if n ==1:\n",
        "    return 1\n",
        "  return n*fact(n-1 )\n",
        "\n",
        "fact(n)"
      ],
      "metadata": {
        "colab": {
          "base_uri": "https://localhost:8080/"
        },
        "id": "VKm28xlyJJfR",
        "outputId": "188dc279-d0d3-472d-b452-e9e106c8f234"
      },
      "execution_count": null,
      "outputs": [
        {
          "output_type": "execute_result",
          "data": {
            "text/plain": [
              "120"
            ]
          },
          "metadata": {},
          "execution_count": 2
        }
      ]
    },
    {
      "cell_type": "code",
      "source": [
        "#A function to return no of rows:\n",
        "\n",
        "\n",
        "def no_rows(row):\n",
        "\n",
        "  if row == 6:\n",
        "    return 1\n",
        "\n",
        "  else:\n",
        "    return 1 + no_rows(row + 1)\n",
        "\n",
        "\n",
        "print(no_rows(3))\n"
      ],
      "metadata": {
        "colab": {
          "base_uri": "https://localhost:8080/"
        },
        "id": "HOonNky_CQII",
        "outputId": "6b012b41-8680-41de-9803-1eed54953c17"
      },
      "execution_count": null,
      "outputs": [
        {
          "output_type": "stream",
          "name": "stdout",
          "text": [
            "4\n"
          ]
        }
      ]
    },
    {
      "cell_type": "code",
      "source": [],
      "metadata": {
        "id": "l7qKZHa6CQFj"
      },
      "execution_count": null,
      "outputs": []
    },
    {
      "cell_type": "code",
      "source": [],
      "metadata": {
        "id": "3ZrvSswBCQCv"
      },
      "execution_count": null,
      "outputs": []
    },
    {
      "cell_type": "code",
      "source": [],
      "metadata": {
        "id": "gVmJi68aCP_h"
      },
      "execution_count": null,
      "outputs": []
    },
    {
      "cell_type": "markdown",
      "source": [
        "# **Time complexity and Space complexity**"
      ],
      "metadata": {
        "id": "ukPJ2BnWZltS"
      }
    },
    {
      "cell_type": "code",
      "source": [
        "#BIG O Notation - TIme complexity"
      ],
      "metadata": {
        "id": "3WGRcTSMZtdN"
      },
      "execution_count": null,
      "outputs": []
    },
    {
      "cell_type": "code",
      "source": [
        "'''\n",
        "\n",
        "o(1) - constant time\n",
        "\n",
        "o(n) - Linear time\n",
        "\n",
        "o(logn) - Logarthemic\n",
        "\n",
        "o(NlogN) - Linear Logarthemic\n",
        "\n",
        "o(N^2) - Quadralic\n"
      ],
      "metadata": {
        "id": "1yEXm56CZrpB"
      },
      "execution_count": null,
      "outputs": []
    },
    {
      "cell_type": "code",
      "source": [],
      "metadata": {
        "id": "vLy2Cwj1H9hf"
      },
      "execution_count": null,
      "outputs": []
    },
    {
      "cell_type": "code",
      "source": [],
      "metadata": {
        "id": "6BLd9DxhH9fK"
      },
      "execution_count": null,
      "outputs": []
    },
    {
      "cell_type": "markdown",
      "source": [
        "# **Data structures**"
      ],
      "metadata": {
        "id": "ZnR71DTQVL8D"
      }
    },
    {
      "cell_type": "code",
      "source": [],
      "metadata": {
        "id": "Rj9Phe_qZwNQ"
      },
      "execution_count": null,
      "outputs": []
    },
    {
      "cell_type": "code",
      "source": [
        "#structuring the data"
      ],
      "metadata": {
        "id": "w27sZTqTVOam"
      },
      "execution_count": null,
      "outputs": []
    },
    {
      "cell_type": "code",
      "source": [
        "s ="
      ],
      "metadata": {
        "id": "OoIMHj3OVPQq"
      },
      "execution_count": null,
      "outputs": []
    },
    {
      "cell_type": "code",
      "source": [],
      "metadata": {
        "id": "AN77v52QICnt"
      },
      "execution_count": null,
      "outputs": []
    },
    {
      "cell_type": "code",
      "source": [],
      "metadata": {
        "id": "zvwFNCUSIClB"
      },
      "execution_count": null,
      "outputs": []
    },
    {
      "cell_type": "code",
      "source": [],
      "metadata": {
        "id": "T_Ck71jqICiX"
      },
      "execution_count": null,
      "outputs": []
    },
    {
      "cell_type": "markdown",
      "source": [
        "## **Array**"
      ],
      "metadata": {
        "id": "C_OUqGRCIC89"
      }
    },
    {
      "cell_type": "code",
      "source": [
        "#Collection of data\n",
        "\n",
        "#Same data type\n",
        "\n",
        "#Static - Fixed\n",
        "\n",
        "#cantegeous memory\n",
        "\n"
      ],
      "metadata": {
        "id": "vzRuL5MfIGsn"
      },
      "execution_count": null,
      "outputs": []
    },
    {
      "cell_type": "code",
      "source": [
        "#Accessing - arr[2] - Constant time - o(1)\n",
        "\n",
        "#insert - arr[4] = 5 - last index isert - Constant time - o(1) ,  mid - o(n-1)\n",
        "\n",
        "#Delete - last index isert - Constant time - o(1) ,  mid - o(n-1)\n",
        "\n",
        "#search - o(1) - if founded first, o(n) - all"
      ],
      "metadata": {
        "id": "gOUybLTFKJcT"
      },
      "execution_count": null,
      "outputs": []
    },
    {
      "cell_type": "code",
      "source": [],
      "metadata": {
        "id": "UIsvOB4NKJUz"
      },
      "execution_count": null,
      "outputs": []
    },
    {
      "cell_type": "code",
      "source": [],
      "metadata": {
        "id": "rHqt1pUiKJPV"
      },
      "execution_count": null,
      "outputs": []
    },
    {
      "cell_type": "code",
      "source": [
        "import array"
      ],
      "metadata": {
        "id": "5LAfyP2dIW_G"
      },
      "execution_count": null,
      "outputs": []
    },
    {
      "cell_type": "code",
      "source": [
        "from array import *"
      ],
      "metadata": {
        "id": "PX2y4OwtIW8n"
      },
      "execution_count": null,
      "outputs": []
    },
    {
      "cell_type": "code",
      "source": [
        "arr= array('i',[1,2,3,4,5])"
      ],
      "metadata": {
        "id": "Dp2zlUfCIW3Y"
      },
      "execution_count": null,
      "outputs": []
    },
    {
      "cell_type": "code",
      "source": [
        "arr"
      ],
      "metadata": {
        "colab": {
          "base_uri": "https://localhost:8080/"
        },
        "id": "xfDajhhkIW0R",
        "outputId": "e16a2852-6c99-4bb6-83f8-716533449788"
      },
      "execution_count": null,
      "outputs": [
        {
          "output_type": "execute_result",
          "data": {
            "text/plain": [
              "array('i', [1, 2, 3, 4, 5])"
            ]
          },
          "metadata": {},
          "execution_count": 5
        }
      ]
    },
    {
      "cell_type": "code",
      "source": [
        "arr[4] #Accessing"
      ],
      "metadata": {
        "colab": {
          "base_uri": "https://localhost:8080/"
        },
        "id": "TsqyQpnyItrs",
        "outputId": "641fbb4c-cca7-43c9-8bc7-4aeb488c0fc7"
      },
      "execution_count": null,
      "outputs": [
        {
          "output_type": "execute_result",
          "data": {
            "text/plain": [
              "5"
            ]
          },
          "metadata": {},
          "execution_count": 6
        }
      ]
    },
    {
      "cell_type": "code",
      "source": [
        "arr.insert(0,6) - inserting"
      ],
      "metadata": {
        "id": "C_3xU-3gItnE"
      },
      "execution_count": null,
      "outputs": []
    },
    {
      "cell_type": "code",
      "source": [
        "arr"
      ],
      "metadata": {
        "colab": {
          "base_uri": "https://localhost:8080/"
        },
        "id": "cQgMUfP3Itkg",
        "outputId": "9bd3643e-f5e1-4313-ff25-b477de6d3c7b"
      },
      "execution_count": null,
      "outputs": [
        {
          "output_type": "execute_result",
          "data": {
            "text/plain": [
              "array('i', [6, 1, 2, 3, 4, 5])"
            ]
          },
          "metadata": {},
          "execution_count": 8
        }
      ]
    },
    {
      "cell_type": "code",
      "source": [
        "arr.pop(0)"
      ],
      "metadata": {
        "colab": {
          "base_uri": "https://localhost:8080/"
        },
        "id": "LA8n7RfHItiA",
        "outputId": "8bf68aee-fe9c-46ac-ffcf-fca2f0392362"
      },
      "execution_count": null,
      "outputs": [
        {
          "output_type": "execute_result",
          "data": {
            "text/plain": [
              "6"
            ]
          },
          "metadata": {},
          "execution_count": 9
        }
      ]
    },
    {
      "cell_type": "code",
      "source": [
        "arr"
      ],
      "metadata": {
        "colab": {
          "base_uri": "https://localhost:8080/"
        },
        "id": "42QNIaabI_hf",
        "outputId": "23b0bb06-1854-4491-be44-9ef4370aca60"
      },
      "execution_count": null,
      "outputs": [
        {
          "output_type": "execute_result",
          "data": {
            "text/plain": [
              "array('i', [1, 2, 3, 4, 5])"
            ]
          },
          "metadata": {},
          "execution_count": 10
        }
      ]
    },
    {
      "cell_type": "code",
      "source": [
        "arr.pop() #- deleting"
      ],
      "metadata": {
        "colab": {
          "base_uri": "https://localhost:8080/"
        },
        "id": "Dy9cc3AdI_ea",
        "outputId": "b9f8d618-41d5-4b3f-aa51-7b630ea6ca9e"
      },
      "execution_count": null,
      "outputs": [
        {
          "output_type": "execute_result",
          "data": {
            "text/plain": [
              "5"
            ]
          },
          "metadata": {},
          "execution_count": 11
        }
      ]
    },
    {
      "cell_type": "code",
      "source": [
        "arr"
      ],
      "metadata": {
        "colab": {
          "base_uri": "https://localhost:8080/"
        },
        "id": "BQLV2YWGI_bd",
        "outputId": "33a8c933-a0c5-4ae0-ee7b-0aadefe464d6"
      },
      "execution_count": null,
      "outputs": [
        {
          "output_type": "execute_result",
          "data": {
            "text/plain": [
              "array('i', [1, 2, 3, 4])"
            ]
          },
          "metadata": {},
          "execution_count": 12
        }
      ]
    },
    {
      "cell_type": "code",
      "source": [
        "for i in range(0, len(arr)):\n",
        "\n",
        "  a=4\n",
        "\n",
        "  if arr[i] ==a:\n",
        "    print('true',i)\n",
        "    break"
      ],
      "metadata": {
        "colab": {
          "base_uri": "https://localhost:8080/"
        },
        "id": "DzJqgjnkI_Yg",
        "outputId": "7ae6c844-8039-4e23-8c6d-dd953b87d68c"
      },
      "execution_count": null,
      "outputs": [
        {
          "output_type": "stream",
          "name": "stdout",
          "text": [
            "true 3\n"
          ]
        }
      ]
    },
    {
      "cell_type": "markdown",
      "source": [
        "# **Algorithms**"
      ],
      "metadata": {
        "id": "6vToOz9EVPy1"
      }
    },
    {
      "cell_type": "code",
      "source": [
        "#Step by step procedure to solve"
      ],
      "metadata": {
        "id": "kLQqMoYdVR3A"
      },
      "execution_count": null,
      "outputs": []
    },
    {
      "cell_type": "markdown",
      "source": [
        "## Searching Algorithm"
      ],
      "metadata": {
        "id": "aIxWBprMjVQH"
      }
    },
    {
      "cell_type": "code",
      "source": [
        "#Linear Search\n",
        "#Binary search"
      ],
      "metadata": {
        "id": "rFOeadsrjYD-"
      },
      "execution_count": null,
      "outputs": []
    },
    {
      "cell_type": "code",
      "source": [
        "#linear search:\n",
        "\n",
        "\n",
        "array = [1,2,3,4,5]\n",
        "x = 3\n",
        "for i in range(0,len(array)):\n",
        "\n",
        "  if array[i] == x:\n",
        "    print(i)\n",
        "\n",
        "\n",
        "else:\n",
        "  print('x is not in array.')"
      ],
      "metadata": {
        "colab": {
          "base_uri": "https://localhost:8080/"
        },
        "id": "k4W-EsWPl0V6",
        "outputId": "7622a63e-a07a-4353-9fb2-cd7b9e7a83ed"
      },
      "execution_count": null,
      "outputs": [
        {
          "output_type": "stream",
          "name": "stdout",
          "text": [
            "2\n"
          ]
        }
      ]
    },
    {
      "cell_type": "code",
      "source": [
        "#binary search\n",
        "\n",
        "nums = [-1,0,3,5,9,12]\n",
        "\n",
        "target = 9\n",
        "\n",
        "\n"
      ],
      "metadata": {
        "id": "3GPF-5ZVmT8B"
      },
      "execution_count": null,
      "outputs": []
    }
  ]
}